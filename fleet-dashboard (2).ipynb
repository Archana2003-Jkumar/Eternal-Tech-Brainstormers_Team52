{
 "cells": [
  {
   "cell_type": "code",
   "execution_count": 8,
   "id": "79bd07e5",
   "metadata": {},
   "outputs": [
    {
     "name": "stdout",
     "output_type": "stream",
     "text": [
      "Defaulting to user installation because normal site-packages is not writeable\n",
      "Requirement already satisfied: dash in c:\\users\\then6\\appdata\\roaming\\python\\python39\\site-packages (3.2.0)\n",
      "Requirement already satisfied: plotly in c:\\programdata\\anaconda3\\lib\\site-packages (5.9.0)\n",
      "Requirement already satisfied: pandas in c:\\programdata\\anaconda3\\lib\\site-packages (1.4.4)\n",
      "Requirement already satisfied: importlib-metadata in c:\\programdata\\anaconda3\\lib\\site-packages (from dash) (4.11.3)\n",
      "Requirement already satisfied: Werkzeug<3.2 in c:\\programdata\\anaconda3\\lib\\site-packages (from dash) (2.0.3)\n",
      "Requirement already satisfied: nest-asyncio in c:\\programdata\\anaconda3\\lib\\site-packages (from dash) (1.5.5)\n",
      "Requirement already satisfied: requests in c:\\programdata\\anaconda3\\lib\\site-packages (from dash) (2.28.1)\n",
      "Requirement already satisfied: retrying in c:\\users\\then6\\appdata\\roaming\\python\\python39\\site-packages (from dash) (1.4.2)\n",
      "Requirement already satisfied: typing-extensions>=4.1.1 in c:\\users\\then6\\appdata\\roaming\\python\\python39\\site-packages (from dash) (4.15.0)\n",
      "Requirement already satisfied: setuptools in c:\\programdata\\anaconda3\\lib\\site-packages (from dash) (63.4.1)\n",
      "Requirement already satisfied: Flask<3.2,>=1.0.4 in c:\\programdata\\anaconda3\\lib\\site-packages (from dash) (1.1.2)\n",
      "Requirement already satisfied: tenacity>=6.2.0 in c:\\users\\then6\\appdata\\roaming\\python\\python39\\site-packages (from plotly) (9.1.2)\n",
      "Requirement already satisfied: pytz>=2020.1 in c:\\programdata\\anaconda3\\lib\\site-packages (from pandas) (2022.1)\n",
      "Requirement already satisfied: python-dateutil>=2.8.1 in c:\\programdata\\anaconda3\\lib\\site-packages (from pandas) (2.8.2)\n",
      "Requirement already satisfied: numpy>=1.18.5 in c:\\users\\then6\\appdata\\roaming\\python\\python39\\site-packages (from pandas) (1.24.3)\n",
      "Requirement already satisfied: Jinja2>=2.10.1 in c:\\programdata\\anaconda3\\lib\\site-packages (from Flask<3.2,>=1.0.4->dash) (2.11.3)\n",
      "Requirement already satisfied: itsdangerous>=0.24 in c:\\programdata\\anaconda3\\lib\\site-packages (from Flask<3.2,>=1.0.4->dash) (2.0.1)\n",
      "Requirement already satisfied: click>=5.1 in c:\\programdata\\anaconda3\\lib\\site-packages (from Flask<3.2,>=1.0.4->dash) (8.0.4)\n",
      "Requirement already satisfied: six>=1.5 in c:\\programdata\\anaconda3\\lib\\site-packages (from python-dateutil>=2.8.1->pandas) (1.16.0)\n",
      "Requirement already satisfied: zipp>=0.5 in c:\\programdata\\anaconda3\\lib\\site-packages (from importlib-metadata->dash) (3.8.0)\n",
      "Requirement already satisfied: charset-normalizer<3,>=2 in c:\\programdata\\anaconda3\\lib\\site-packages (from requests->dash) (2.0.4)\n",
      "Requirement already satisfied: idna<4,>=2.5 in c:\\programdata\\anaconda3\\lib\\site-packages (from requests->dash) (3.3)\n",
      "Requirement already satisfied: urllib3<1.27,>=1.21.1 in c:\\programdata\\anaconda3\\lib\\site-packages (from requests->dash) (1.26.11)\n",
      "Requirement already satisfied: certifi>=2017.4.17 in c:\\programdata\\anaconda3\\lib\\site-packages (from requests->dash) (2022.9.14)\n",
      "Requirement already satisfied: colorama in c:\\programdata\\anaconda3\\lib\\site-packages (from click>=5.1->Flask<3.2,>=1.0.4->dash) (0.4.5)\n",
      "Requirement already satisfied: MarkupSafe>=0.23 in c:\\programdata\\anaconda3\\lib\\site-packages (from Jinja2>=2.10.1->Flask<3.2,>=1.0.4->dash) (2.0.1)\n"
     ]
    },
    {
     "name": "stderr",
     "output_type": "stream",
     "text": [
      "Error processing line 1 of C:\\Users\\then6\\AppData\\Roaming\\Python\\Python39\\site-packages\\vision-1.0.0-py3.9-nspkg.pth:\n",
      "\n",
      "  Traceback (most recent call last):\n",
      "    File \"C:\\ProgramData\\Anaconda3\\lib\\site.py\", line 169, in addpackage\n",
      "      exec(line)\n",
      "    File \"<string>\", line 1, in <module>\n",
      "    File \"<frozen importlib._bootstrap>\", line 562, in module_from_spec\n",
      "  AttributeError: 'NoneType' object has no attribute 'loader'\n",
      "\n",
      "Remainder of file ignored\n"
     ]
    }
   ],
   "source": [
    "# Install packages\n",
    "!pip install dash plotly pandas\n"
   ]
  },
  {
   "cell_type": "code",
   "execution_count": 13,
   "id": "172b2a18",
   "metadata": {},
   "outputs": [
    {
     "data": {
      "text/html": [
       "\n",
       "        <iframe\n",
       "            width=\"100%\"\n",
       "            height=\"650\"\n",
       "            src=\"http://127.0.0.1:8052/\"\n",
       "            frameborder=\"0\"\n",
       "            allowfullscreen\n",
       "            \n",
       "        ></iframe>\n",
       "        "
      ],
      "text/plain": [
       "<IPython.lib.display.IFrame at 0x1d250338fa0>"
      ]
     },
     "metadata": {},
     "output_type": "display_data"
    }
   ],
   "source": [
    "# -----------------------------\n",
    "# 1. Import dependencies\n",
    "# -----------------------------\n",
    "import dash\n",
    "from dash import dcc, html, dash_table\n",
    "import plotly.express as px\n",
    "import pandas as pd\n",
    "\n",
    "# -----------------------------\n",
    "# 2. Example fleet DataFrame\n",
    "# (replace this with your actual DataFrame from statevector notebook)\n",
    "# -----------------------------\n",
    "try:\n",
    "    df = fleet_df.copy()   # <-- replace fleet_df with your DataFrame variable name\n",
    "except NameError:\n",
    "    # fallback demo data\n",
    "    df = pd.DataFrame({\n",
    "        \"vehicle_id\": [1, 2, 3, 4],\n",
    "        \"capacity\": [50, 70, 60, 80],\n",
    "        \"status\": [\"Idle\", \"On Trip\", \"Idle\", \"Maintenance\"]\n",
    "    })\n",
    "\n",
    "# -----------------------------\n",
    "# 3. Initialize Dash App\n",
    "# -----------------------------\n",
    "app = dash.Dash(__name__)\n",
    "\n",
    "# -----------------------------\n",
    "# 4. Layout\n",
    "# -----------------------------\n",
    "app.layout = html.Div([\n",
    "\n",
    "    html.H1(\"🚚 Fleet Dashboard\", style={\"textAlign\": \"center\"}),\n",
    "\n",
    "    # KPIs row\n",
    "    html.Div([\n",
    "        html.Div([\n",
    "            html.H3(\"Total Vehicles\"),\n",
    "            html.H2(df.shape[0])\n",
    "        ], style={\"width\": \"30%\", \"display\": \"inline-block\", \"textAlign\": \"center\"}),\n",
    "\n",
    "        html.Div([\n",
    "            html.H3(\"Avg Capacity\"),\n",
    "            html.H2(f\"{df['capacity'].mean():.2f}\")\n",
    "        ], style={\"width\": \"30%\", \"display\": \"inline-block\", \"textAlign\": \"center\"}),\n",
    "\n",
    "        html.Div([\n",
    "            html.H3(\"Active Trips\"),\n",
    "            html.H2((df['status'] == \"On Trip\").sum())\n",
    "        ], style={\"width\": \"30%\", \"display\": \"inline-block\", \"textAlign\": \"center\"}),\n",
    "    ]),\n",
    "\n",
    "    html.Br(),\n",
    "\n",
    "    # Fleet Status Pie Chart\n",
    "    dcc.Graph(\n",
    "        id=\"status-pie\",\n",
    "        figure=px.pie(df, names=\"status\", title=\"Fleet Status Distribution\")\n",
    "    ),\n",
    "\n",
    "    # Fleet Capacity Histogram\n",
    "    dcc.Graph(\n",
    "        id=\"capacity-hist\",\n",
    "        figure=px.histogram(df, x=\"capacity\", nbins=10, title=\"Vehicle Capacity Distribution\")\n",
    "    ),\n",
    "\n",
    "    # Data Table\n",
    "    html.H3(\"Fleet Details\"),\n",
    "    dash_table.DataTable(\n",
    "        id=\"fleet-table\",\n",
    "        columns=[{\"name\": c, \"id\": c} for c in df.columns],\n",
    "        data=df.to_dict(\"records\"),\n",
    "        page_size=5,\n",
    "        style_table={\"overflowX\": \"auto\"},\n",
    "        style_cell={\"textAlign\": \"center\"}\n",
    "    )\n",
    "])\n",
    "\n",
    "# -----------------------------\n",
    "# 5. Run App\n",
    "# -----------------------------\n",
    "app.run(debug=True, port=8052)  # new port to avoid conflict\n"
   ]
  },
  {
   "cell_type": "code",
   "execution_count": null,
   "id": "0b4ac493",
   "metadata": {},
   "outputs": [],
   "source": []
  }
 ],
 "metadata": {
  "kernelspec": {
   "display_name": "Python 3 (ipykernel)",
   "language": "python",
   "name": "python3"
  },
  "language_info": {
   "codemirror_mode": {
    "name": "ipython",
    "version": 3
   },
   "file_extension": ".py",
   "mimetype": "text/x-python",
   "name": "python",
   "nbconvert_exporter": "python",
   "pygments_lexer": "ipython3",
   "version": "3.9.13"
  }
 },
 "nbformat": 4,
 "nbformat_minor": 5
}
